{
 "cells": [
  {
   "cell_type": "markdown",
   "metadata": {},
   "source": [
    "# Deep Learning for NLP - Project"
   ]
  },
  {
   "cell_type": "markdown",
   "metadata": {},
   "source": [
    "RULES:\n",
    "\n",
    "* Do not create any additional cell\n",
    "\n",
    "* Fill in the blanks\n",
    "\n",
    "* All cells should be runnable (modulo trivial compatibility bugs that we'd fix)\n",
    "\n",
    "* 4 / 20 points will be allocated to the clarity of your code\n",
    "\n",
    "* Efficient code will have a bonus\n",
    "\n",
    "DELIVERABLE:\n",
    "\n",
    "* this notebook\n",
    "* the predictions of the SST test set\n",
    "\n",
    "DO NOT INCLUDE THE DATASETS IN THE DELIVERABLE.."
   ]
  },
  {
   "cell_type": "code",
   "execution_count": 1,
   "metadata": {
    "collapsed": false
   },
   "outputs": [],
   "source": [
    "import io\n",
    "import os\n",
    "import numpy as np\n",
    "import scipy\n",
    "import matplotlib.pyplot as plt"
   ]
  },
  {
   "cell_type": "code",
   "execution_count": 2,
   "metadata": {
    "collapsed": true
   },
   "outputs": [],
   "source": [
    "PATH_TO_DATA = \"data/\""
   ]
  },
  {
   "cell_type": "markdown",
   "metadata": {},
   "source": [
    "# 1) Monolingual (English) word embeddings "
   ]
  },
  {
   "cell_type": "code",
   "execution_count": 3,
   "metadata": {
    "collapsed": true
   },
   "outputs": [],
   "source": [
    "class Word2vec():\n",
    "    def __init__(self, fname, nmax=100000):\n",
    "        self.load_wordvec(fname, nmax)\n",
    "        self.word2id = dict.fromkeys(self.word2vec.keys())\n",
    "        self.id2word = {v: k for k, v in self.word2id.items()}\n",
    "        self.embeddings = np.array(self.word2vec.values())\n",
    "    \n",
    "    def load_wordvec(self, fname, nmax):\n",
    "        self.word2vec = {}\n",
    "        with io.open(fname, encoding='utf-8') as f:\n",
    "            next(f)\n",
    "            for i, line in enumerate(f):\n",
    "                # Sepparating each word from its embedding\n",
    "                word, vec = line.split(' ', 1)\n",
    "                # We add each word and its embedding to the word2vec attribute\n",
    "                self.word2vec[word] = np.fromstring(vec, sep=' ')\n",
    "                if i == (nmax - 1):\n",
    "                    break\n",
    "        print('Loaded %s pretrained word vectors' % (len(self.word2vec)))\n",
    "\n",
    "    def most_similar(self, w, K=5):\n",
    "        # K most similar words: self.score  -  np.argsort\n",
    "        key_list = []\n",
    "        key_score = []\n",
    "        # Creating an array with the cosine score for each word\n",
    "        for key, value in self.word2vec.items():\n",
    "            key_list.append(key)\n",
    "            key_score.append( self.score(w, key) )\n",
    "        # Sorting the words\n",
    "        key_list = np.array(key_list)\n",
    "        key_score = np.array(key_score)\n",
    "        sorted_score = np.argsort( key_score )\n",
    "        # \n",
    "        most_similar_list = key_list[sorted_score[(-K-1):-1]]\n",
    "        return most_similar_list\n",
    "\n",
    "    def score(self, w1, w2):\n",
    "        # Calculating the cosine similarity: np.dot  -  np.linalg.norm\n",
    "        cosine_similarity = ( np.dot(self.word2vec[w1], self.word2vec[w2]) ) / ( np.linalg.norm( self.word2vec[w1] ) * np.linalg.norm( self.word2vec[w2] ) )\n",
    "        return cosine_similarity\n"
   ]
  },
  {
   "cell_type": "code",
   "execution_count": 4,
   "metadata": {
    "collapsed": false
   },
   "outputs": [
    {
     "name": "stdout",
     "output_type": "stream",
     "text": [
      "Loaded 100000 pretrained word vectors\n",
      "cat dog 0.671683666279249\n",
      "dog pet 0.6842064029669219\n",
      "dogs cats 0.7074389328052403\n",
      "paris france 0.7775108541288561\n",
      "germany berlin 0.7420295235998392\n",
      "['kitties' 'feline' 'kitten' 'kitty' 'cats']\n",
      "['canine' 'doggie' 'Dog' 'puppy' 'dogs']\n",
      "['canines' 'doggies' 'Dogs' 'pooches' 'dog']\n",
      "['tokyo' 'berlin' 'london' 'Paris' 'france']\n",
      "['poland' 'berlin' 'german' 'europe' 'austria']\n"
     ]
    }
   ],
   "source": [
    "# We set nmax to 100,000 to be able to reach paris\n",
    "w2v = Word2vec(os.path.join(PATH_TO_DATA, 'crawl-300d-200k.vec'), nmax=100000)\n",
    "\n",
    "# You will be evaluated on the output of the following:\n",
    "for w1, w2 in zip(('cat', 'dog', 'dogs', 'paris', 'germany'), ('dog', 'pet', 'cats', 'france', 'berlin')):\n",
    "    print(w1, w2, w2v.score(w1, w2))\n",
    "for w1 in ['cat', 'dog', 'dogs', 'paris', 'germany']:\n",
    "    print(w2v.most_similar(w1))"
   ]
  },
  {
   "cell_type": "code",
   "execution_count": 5,
   "metadata": {
    "collapsed": false
   },
   "outputs": [],
   "source": [
    "class BoV():\n",
    "    def __init__(self, w2v):\n",
    "        self.w2v = w2v\n",
    "    \n",
    "    def encode(self, sentences, idf=False):\n",
    "        # takes a list of sentences, outputs a numpy array of sentence embeddings\n",
    "        # see TP1 for help\n",
    "        sentemb = []\n",
    "        #\n",
    "        shape = (300,)\n",
    "        \n",
    "        for sent in sentences:\n",
    "            if idf is False:\n",
    "                # mean of word vectors\n",
    "                word_list = sent.split(' ')\n",
    "                mean = np.zeros(shape)\n",
    "                int_num = 0\n",
    "                for i in word_list:\n",
    "                    if i in w2v.word2vec.keys():\n",
    "                        mean += w2v.word2vec[i]\n",
    "                        int_num += 1\n",
    "                mean = mean / int_num\n",
    "                sentemb.append(mean)\n",
    "                #assert False, 'TODO: fill in the blank'\n",
    "            else:\n",
    "                # idf-weighted mean of word vectors\n",
    "                word_list = sent.split(' ')\n",
    "                mean = np.zeros(shape)\n",
    "                int_num = 0\n",
    "                for i in word_list:\n",
    "                    if i in w2v.word2vec.keys():\n",
    "                        mean += w2v.word2vec[i] * idf[i]\n",
    "                        int_num += 1\n",
    "                mean = mean / int_num\n",
    "                sentemb.append(mean)\n",
    "                #assert False, 'TODO: fill in the blank'\n",
    "        return np.vstack(sentemb)\n",
    "\n",
    "    def most_similar(self, s, sentences, idf=False, K=5):\n",
    "        # get most similar sentences and **print** them\n",
    "        key_list = sentences\n",
    "        key_score = []\n",
    "         # Creating an array with the cosine score for each word\n",
    "        for sent in sentences:\n",
    "            key_score.append( self.score(s, sent, idf) )\n",
    "        # Sorting the sentences\n",
    "        key_list = np.array(key_list)\n",
    "        key_score = np.array(key_score)\n",
    "        sorted_score = np.argsort( key_score )\n",
    "        # \n",
    "        most_similar_list = key_list[sorted_score[(-K-1):-1]]\n",
    "        print(most_similar_list)\n",
    "        return most_similar_list\n",
    "\n",
    "    def score(self, s1, s2, idf=False):\n",
    "        # cosine similarity: use   np.dot  and  np.linalg.norm\n",
    "        cosine_similarity = ( np.dot( self.encode([s1], idf)[0], self.encode([s2], idf)[0]) ) / ( np.linalg.norm( self.encode([s1], idf)[0] ) * np.linalg.norm( self.encode([s2], idf)[0] ) )\n",
    "        return cosine_similarity\n",
    "    \n",
    "    def build_idf(self, sentences):\n",
    "        # build the idf dictionary: associate each word to its idf value\n",
    "        idf = {}\n",
    "        length = len(sentences)\n",
    "        for sent in sentences:\n",
    "            word_list = sent.split(' ')\n",
    "            for w in set(word_list):\n",
    "                idf[w] = idf.get(w, 0) + 1\n",
    "        for w in idf.keys():\n",
    "            idf[w] = max(1, np.log10(length / (idf[w])))\n",
    "        return idf\n"
   ]
  },
  {
   "cell_type": "code",
   "execution_count": 6,
   "metadata": {
    "collapsed": false
   },
   "outputs": [
    {
     "name": "stdout",
     "output_type": "stream",
     "text": [
      "Loaded 100000 pretrained word vectors\n",
      "['a girl in black hat holding an african american baby .'\n",
      " 'an african american man is sitting .'\n",
      " 'an afican american woman standing behind two small african american children .'\n",
      " 'a little african american boy and girl looking up .'\n",
      " 'an african american man smiling .']\n",
      "0.5726258859719607\n",
      "['a girl in black hat holding an african american baby .'\n",
      " 'an afican american woman standing behind two small african american children .'\n",
      " 'a little african american boy and girl looking up .'\n",
      " 'an african american man is sitting .'\n",
      " 'an african american man smiling .']\n",
      "0.4751450875368781\n"
     ]
    }
   ],
   "source": [
    "w2v = Word2vec(os.path.join(PATH_TO_DATA, 'crawl-300d-200k.vec'), nmax=100000)\n",
    "s2v = BoV(w2v)\n",
    "\n",
    "# Load sentences in \"PATH_TO_DATA/sentences.txt\"\n",
    "file = open( os.path.join(PATH_TO_DATA, 'sentences.txt'), 'r') \n",
    "sentences = file.readlines() \n",
    "sentences = [ x[:-2] for x in sentences]\n",
    "\n",
    "# You will be evaluated on the output of the following:\n",
    "s2v.most_similar('' if not sentences else sentences[10], sentences)  # BoV-mean\n",
    "print(s2v.score('' if not sentences else sentences[7], '' if not sentences else sentences[13]))\n",
    "\n",
    "# Build idf scores for each word\n",
    "idf = s2v.build_idf(sentences)\n",
    "s2v.most_similar('' if not sentences else sentences[10], sentences, idf)  # BoV-idf\n",
    "print(s2v.score('' if not sentences else sentences[7], '' if not sentences else sentences[13], idf))"
   ]
  },
  {
   "cell_type": "markdown",
   "metadata": {},
   "source": [
    "# 2) Multilingual (English-French) word embeddings"
   ]
  },
  {
   "cell_type": "markdown",
   "metadata": {},
   "source": [
    "Let's consider a bilingual dictionary of size V_a (e.g French-English).\n",
    "\n",
    "Let's define **X** and **Y** the **French** and **English** matrices.\n",
    "\n",
    "They contain the embeddings associated to the words in the bilingual dictionary.\n",
    "\n",
    "We want to find a **mapping W** that will project the source word space (e.g French) to the target word space (e.g English).\n",
    "\n",
    "Procrustes : **W\\** = argmin || W.X - Y ||  s.t  W^T.W = Id**\n",
    "has a closed form solution:\n",
    "**W = U.V^T  where  U.Sig.V^T = SVD(Y.X^T)**\n",
    "\n",
    "In what follows, you are asked to: "
   ]
  },
  {
   "cell_type": "code",
   "execution_count": 11,
   "metadata": {
    "collapsed": true
   },
   "outputs": [
    {
     "name": "stdout",
     "output_type": "stream",
     "text": [
      "Loaded 50000 pretrained word vectors\n",
      "Loaded 50000 pretrained word vectors\n"
     ]
    }
   ],
   "source": [
    "# 1 - Download and load 50k first vectors of\n",
    "#     https://s3-us-west-1.amazonaws.com/fasttext-vectors/wiki.en.vec\n",
    "#     https://s3-us-west-1.amazonaws.com/fasttext-vectors/wiki.fr.vec\n",
    "\n",
    "# TYPE CODE HERE\n",
    "w2v_en=Word2vec('data/wiki.en.vec',nmax=50000)\n",
    "w2v_fr=Word2vec('data/wiki.fr.vec',nmax=50000)\n",
    "wiki_en=w2v_en.word2vec\n",
    "wiki_fr=w2v_fr.word2vec"
   ]
  },
  {
   "cell_type": "code",
   "execution_count": 35,
   "metadata": {
    "collapsed": true
   },
   "outputs": [
    {
     "name": "stdout",
     "output_type": "stream",
     "text": [
      "(18970, 300)\n",
      "(18970, 300)\n"
     ]
    }
   ],
   "source": [
    "# 2 - Get words that appear in both vocabs (= identical character strings)\n",
    "#     Use it to create the matrix X and Y (of aligned embeddings for these words)\n",
    "\n",
    "# TYPE CODE HERE\n",
    "# First, let us create a list of the common words\n",
    "intersect = []\n",
    "for item in wiki_en.keys( ):\n",
    "    if item in wiki_fr.keys():\n",
    "        intersect.append(item)\n",
    "\n",
    "# Creation of X and Y\n",
    "n = len(intersect)\n",
    "m = wiki_fr['le'].shape[0]\n",
    "\n",
    "X = np.zeros((n,m))\n",
    "Y = np.zeros((n,m))\n",
    "\n",
    "for i, item in enumerate(intersect):\n",
    "    X[i:]= wiki_en[item]\n",
    "    Y[i:]= wiki_fr[item]\n",
    "\n",
    "print(X.shape)\n",
    "print(Y.shape)"
   ]
  },
  {
   "cell_type": "code",
   "execution_count": 39,
   "metadata": {
    "collapsed": true
   },
   "outputs": [
    {
     "name": "stdout",
     "output_type": "stream",
     "text": [
      "(300, 300)\n"
     ]
    }
   ],
   "source": [
    "# 3 - Solve the Procrustes using the scipy package and: scipy.linalg.svd() and get the optimal W\n",
    "#     Now W*French_vector is in the same space as English_vector\n",
    "\n",
    "# TYPE CODE HERE\n",
    "# We will use the transposed of X and Y for computational reasons\n",
    "X_T = np.transpose(X)\n",
    "Y_T = np.transpose(Y)\n",
    "\n",
    "# Thanks to the procrustes, we can find the optimal solution for W thanks to the SVD(Y_T * X)\n",
    "U, S, V_T = scipy.linalg.svd( (Y_T@X) )\n",
    "\n",
    "# We have W* = U*V_T where U*S*V_T = SVD(Y_T * X)\n",
    "W = U @ V_T\n",
    "\n",
    "print(W.shape)"
   ]
  },
  {
   "cell_type": "code",
   "execution_count": 57,
   "metadata": {
    "collapsed": true
   },
   "outputs": [
    {
     "name": "stdout",
     "output_type": "stream",
     "text": [
      "French words' nearest neighbors in English\n",
      "chat ['squirrel' 'poodle' 'feline' 'hamster' 'rabbit']\n",
      "rideau ['windscreen' 'rideau' 'balcony' 'foyer' 'curtains']\n",
      "pomme ['spinach' 'papaya' 'potatoes' 'potato' 'avocado']\n",
      "stylo ['syringe' 'headset' 'ink' 'flashlight' 'typewriter']\n",
      "\n",
      "\n",
      "English words' nearest neighbors in French\n",
      "dog ['chicken' 'chienne' 'chiens' 'hound' 'chien']\n",
      "computer ['informatiques' 'computing' 'ordinateur' 'ordinateurs' 'informatique']\n",
      "bread ['saucisses' 'beurre' 'desserts' 'confiture' 'pains']\n",
      "flower ['leaves' 'pétales' 'fleur' 'flowers' 'fleurs']\n"
     ]
    }
   ],
   "source": [
    "# 4 - After alignment with W, give examples of English nearest neighbors of some French words (and vice versa)\n",
    "#     You will be evaluated on that part and the code above\n",
    "\n",
    "# TYPE CODE HERE\n",
    "# We need to calculate the transposed of W for our function\n",
    "W_T = np.transpose(W)\n",
    "\n",
    "def translated_nn( word, K, language = \"French\"):\n",
    "    if language == \"French\":\n",
    "        key_list = []\n",
    "        key_score = []\n",
    "        # Creating an array with the cosine score for each word\n",
    "        for key, value in w2v_en.word2vec.items():\n",
    "            key_list.append(key)\n",
    "            new_coord = W_T @ w2v_fr.word2vec[word]\n",
    "            cosine_similarity = ( np.dot(new_coord, w2v_en.word2vec[key]) ) / ( np.linalg.norm( new_coord ) * np.linalg.norm( w2v_en.word2vec[key] )) \n",
    "            key_score.append( cosine_similarity )\n",
    "        # Sorting the words\n",
    "        key_list = np.array(key_list)\n",
    "        key_score = np.array(key_score)\n",
    "        sorted_score = np.argsort( key_score )\n",
    "        most_similar_list = key_list[sorted_score[(-K-1):-1]]\n",
    "        return most_similar_list\n",
    "    elif language == \"English\":\n",
    "        key_list = []\n",
    "        key_score = []\n",
    "        # Creating an array with the cosine score for each word\n",
    "        for key, value in w2v_fr.word2vec.items():\n",
    "            key_list.append(key)\n",
    "            new_coord = W @ w2v_en.word2vec[word]\n",
    "            cosine_similarity = ( np.dot(new_coord, w2v_fr.word2vec[key]) ) / ( np.linalg.norm( new_coord ) * np.linalg.norm( w2v_fr.word2vec[key] )) \n",
    "            key_score.append( cosine_similarity )\n",
    "        # Sorting the words\n",
    "        key_list = np.array(key_list)\n",
    "        key_score = np.array(key_score)\n",
    "        sorted_score = np.argsort( key_score )\n",
    "        most_similar_list = key_list[sorted_score[(-K-1):-1]]\n",
    "        return most_similar_list\n",
    "    else:\n",
    "        print(\"Write 'French' or 'English' \")\n",
    "        \n",
    "french_words = ['chat', 'rideau', 'pomme', 'stylo']\n",
    "english_words = ['dog', 'computer', 'bread', 'flower']\n",
    "\n",
    "print(\"French words' nearest neighbors in English\")\n",
    "for item in french_words:\n",
    "    print(item, translated_nn( item, K=5, language = \"French\"))\n",
    "\n",
    "print('\\n')\n",
    "                                                                               \n",
    "print(\"English words' nearest neighbors in French\")\n",
    "for item in english_words:\n",
    "    print(item, translated_nn( item, K=5, language = \"English\"))                                                                            "
   ]
  },
  {
   "cell_type": "markdown",
   "metadata": {},
   "source": [
    "If you want to dive deeper on this subject: https://github.com/facebookresearch/MUSE"
   ]
  },
  {
   "cell_type": "markdown",
   "metadata": {},
   "source": [
    "# 3) Sentence classification with BoV and scikit-learn"
   ]
  },
  {
   "cell_type": "code",
   "execution_count": 79,
   "metadata": {
    "collapsed": true
   },
   "outputs": [],
   "source": [
    "# 1 - Load train/dev/test of Stanford Sentiment TreeBank (SST)\n",
    "#     (https://nlp.stanford.edu/~socherr/EMNLP2013_RNTN.pdf)\n",
    "\n",
    "# TYPE CODE HERE\n",
    "PATH_TO_DATA_3 = \"data/SST/\"\n",
    "\n",
    "sentences_train = []\n",
    "results_train = []\n",
    "\n",
    "with io.open(os.path.join(PATH_TO_DATA_3, 'stsa.fine.train'), encoding='utf-8', newline='\\n') as f:\n",
    "    next(f)\n",
    "    for line in f:\n",
    "        sentences_train.append(line[1:-1])\n",
    "        results_train.append(int(line[:1]))\n",
    "        \n",
    "sentences_test = []\n",
    "\n",
    "with io.open(os.path.join(PATH_TO_DATA_3, 'stsa.fine.test.X'), encoding='utf-8', newline='\\n') as f:\n",
    "    next(f)\n",
    "    for line in f:\n",
    "        sentences_test.append(line[:-1])\n",
    "        \n",
    "sentences_dev = []\n",
    "results_dev = []\n",
    "\n",
    "with io.open(os.path.join(PATH_TO_DATA_3, 'stsa.fine.dev'), encoding='utf-8', newline='\\n') as f:\n",
    "    next(f)\n",
    "    for line in f:\n",
    "        sentences_dev.append(line[1:-1])\n",
    "        results_dev.append(int(line[:1]))"
   ]
  },
  {
   "cell_type": "code",
   "execution_count": 81,
   "metadata": {
    "collapsed": true
   },
   "outputs": [
    {
     "name": "stdout",
     "output_type": "stream",
     "text": [
      "Loaded 100000 pretrained word vectors\n"
     ]
    }
   ],
   "source": [
    "# 2 - Encode sentences with the BoV model above\n",
    "\n",
    "# TYPE CODE HERE \n",
    "w2v = Word2vec(os.path.join(PATH_TO_DATA, 'crawl-300d-200k.vec'), nmax=100000)\n",
    "s2v = BoV(w2v)\n",
    "\n",
    "encoded_train = s2v.encode(sentences_train)\n",
    "encoded_test = s2v.encode(sentences_test)\n",
    "encoded_dev = s2v.encode(sentences_dev)\n",
    "\n",
    "# Let us also encode with the idf\n",
    "idf_train = s2v.build_idf(sentences_train)\n",
    "idf_test = s2v.build_idf(sentences_test)\n",
    "idf_dev = s2v.build_idf(sentences_dev)\n",
    "\n",
    "encoded_train_idf = s2v.encode(sentences_train, idf_train)\n",
    "encoded_test_idf = s2v.encode(sentences_test, idf_test)\n",
    "encoded_dev_idf = s2v.encode(sentences_dev, idf_dev)"
   ]
  },
  {
   "cell_type": "code",
   "execution_count": 82,
   "metadata": {
    "collapsed": true
   },
   "outputs": [
    {
     "name": "stdout",
     "output_type": "stream",
     "text": [
      "Tuned hyperparameters :(best parameters)  {'C': 1.0, 'fit_intercept': False}\n",
      "Train accuracy with no idf: 0.4993561980568887\n",
      "Dev accuracy with no idf: 0.43272727272727274\n",
      "Train accuracy with idf: 0.497600374575676\n",
      "Dev accuracy with idf: 0.4090909090909091\n"
     ]
    }
   ],
   "source": [
    "# 3 - Learn Logistic Regression on top of sentence embeddings using scikit-learn\n",
    "#     (consider tuning the L2 regularization on the dev set)\n",
    "\n",
    "# TYPE CODE HERE\n",
    "from sklearn.linear_model import LogisticRegression\n",
    "from sklearn.model_selection import GridSearchCV\n",
    "\n",
    "params_logreg = {'fit_intercept':(True, False), 'C':np.logspace(-3,3,7)}\n",
    "\n",
    "logreg = LogisticRegression(random_state=8, solver='lbfgs', multi_class='multinomial', max_iter=1000)\n",
    "logreg_cv = GridSearchCV(logreg, params_logreg, cv=5)\n",
    "logreg_cv.fit(encoded_train, results_train)\n",
    "\n",
    "print(\"Tuned hyperparameters :(best parameters) \",logreg_cv.best_params_)\n",
    "print(\"Train accuracy with no idf:\",logreg_cv.score(encoded_train,results_train))\n",
    "print(\"Dev accuracy with no idf:\",logreg_cv.score(encoded_dev,results_dev))\n",
    "\n",
    "logreg_idf= LogisticRegression(random_state=8, C=1, solver='lbfgs', multi_class='multinomial', max_iter=1000)\n",
    "logreg_idf.fit(encoded_train_idf, results_train)\n",
    "print(\"Train accuracy with idf:\",logreg_idf.score(encoded_train_idf,results_train))\n",
    "print(\"Dev accuracy with idf:\",logreg_idf.score(encoded_dev_idf,results_dev))"
   ]
  },
  {
   "cell_type": "code",
   "execution_count": 140,
   "metadata": {
    "collapsed": true
   },
   "outputs": [],
   "source": [
    "# 4 - Produce 2210 predictions for the test set (in the same order). One line = one prediction (=0,1,2,3,4).\n",
    "#     Attach the output file \"logreg_bov_y_test_sst.txt\" to your deliverable.\n",
    "#     You will be evaluated on the results of the test set.\n",
    "\n",
    "# TYPE CODE HERE\n",
    "results_test_1 = logreg_cv.predict(encoded_test)\n",
    "\n",
    "file = open(\"logreg_bov_y_test_sst.txt\",\"w\") \n",
    "\n",
    "for i in results_test_1:\n",
    "    file.write(str(i)) \n",
    "    file.write(\"\\n\")\n",
    "\n",
    "file.close() "
   ]
  },
  {
   "cell_type": "code",
   "execution_count": 70,
   "metadata": {
    "collapsed": true
   },
   "outputs": [
    {
     "name": "stdout",
     "output_type": "stream",
     "text": [
      "Tuned hyperparameters : {'kernel': 'rbf', 'degree': 3, 'C': 100}\n",
      "Accuracy : 0.4892894767646026\n",
      "Test score : 0.43363636363636365\n"
     ]
    }
   ],
   "source": [
    "# BONUS!\n",
    "# 5 - Try to improve performance with another classifier\n",
    "#     Attach the output file \"XXX_bov_y_test_sst.txt\" to your deliverable (where XXX = the name of the classifier)\n",
    "\n",
    "# TYPE CODE HERE\n",
    "from sklearn.svm import SVC\n",
    "from sklearn.model_selection import RandomizedSearchCV\n",
    "\n",
    "params_svc = { 'C':np.logspace(-3,3,7),'degree': range(1,6), 'kernel': ['linear', 'poly', 'rbf', 'sigmoid']}\n",
    "\n",
    "svc=SVC(random_state = 8, gamma='auto')\n",
    "svc_cv = RandomizedSearchCV(svc, params_svc, cv=5)\n",
    "svc_cv.fit(encoded_train, results_train)\n",
    "\n",
    "print(\"Tuned hyperparameters :(best parameters) \",svc_cv.best_params_)\n",
    "print(\"Accuracy :\",svc_cv.best_score_)\n",
    "\n",
    "#After fitting the randomized search, those were the best parameters\n",
    "svc_2 = SVC(gamma = 'auto', random_state=8, C = 100 , degree = 3 , kernel = 'rbf' )\n",
    "svc_2.fit(encoded_train, results_train)\n",
    "\n",
    "print(\"Test score :\", svc_2.score(encoded_dev, results_dev))\n",
    "\n",
    "# Creating a file for the results of the test set\n",
    "results_test_2 = svc_2.predict(encoded_test)\n",
    "\n",
    "file = open(\"svc_bov_y_test_sst.txt\",\"w\") \n",
    "\n",
    "for i in results_test_2:\n",
    "    file.write(str(i)) \n",
    "    file.write(\"\\n\")\n",
    "\n",
    "file.close() "
   ]
  },
  {
   "cell_type": "markdown",
   "metadata": {},
   "source": [
    "# 4) Sentence classification with LSTMs in Keras"
   ]
  },
  {
   "cell_type": "markdown",
   "metadata": {},
   "source": [
    "## 4.1 - Preprocessing"
   ]
  },
  {
   "cell_type": "code",
   "execution_count": 71,
   "metadata": {
    "collapsed": false
   },
   "outputs": [
    {
     "name": "stderr",
     "output_type": "stream",
     "text": [
      "Using TensorFlow backend.\n"
     ]
    }
   ],
   "source": [
    "import keras"
   ]
  },
  {
   "cell_type": "code",
   "execution_count": 72,
   "metadata": {
    "collapsed": true
   },
   "outputs": [],
   "source": [
    "# 1 - Load train/dev/test sets of SST\n",
    "\n",
    "# TYPE CODE HERE\n",
    "PATH_TO_DATA_3 = \"data/SST/\"\n",
    "\n",
    "sentences_train = []\n",
    "results_train = []\n",
    "\n",
    "with io.open(os.path.join(PATH_TO_DATA_3, 'stsa.fine.train'), encoding='utf-8', newline='\\n') as f:\n",
    "    next(f)\n",
    "    for line in f:\n",
    "        sentences_train.append(line[1:-1])\n",
    "        results_train.append(int(line[:1]))\n",
    "        \n",
    "sentences_test = []\n",
    "\n",
    "with io.open(os.path.join(PATH_TO_DATA_3, 'stsa.fine.test.X'), encoding='utf-8', newline='\\n') as f:\n",
    "    next(f)\n",
    "    for line in f:\n",
    "        sentences_test.append(line[:-1])\n",
    "        \n",
    "sentences_dev = []\n",
    "results_dev = []\n",
    "\n",
    "with io.open(os.path.join(PATH_TO_DATA_3, 'stsa.fine.dev'), encoding='utf-8', newline='\\n') as f:\n",
    "    next(f)\n",
    "    for line in f:\n",
    "        sentences_dev.append(line[1:-1])\n",
    "        results_dev.append(int(line[:1]))"
   ]
  },
  {
   "cell_type": "code",
   "execution_count": 73,
   "metadata": {
    "collapsed": true
   },
   "outputs": [],
   "source": [
    "# 2 - Transform text to integers using keras.preprocessing.text.one_hot function\n",
    "#     https://keras.io/preprocessing/text/\n",
    "\n",
    "# TYPE CODE HERE\n",
    "\n",
    "# Finding the vocab size : We split each sentence into words for the three sets of text\n",
    "all_text = (sentences_dev+ sentences_test + sentences_train)\n",
    "from keras.preprocessing.text import text_to_word_sequence\n",
    "a = []\n",
    "for line in all_text:\n",
    "        a.append(text_to_word_sequence(line))\n",
    "# We then flatten it to get a final list of all words, and use \"set\" to count the unique words\n",
    "flat_list = [item for sublist in a for item in sublist]\n",
    "vocab_size = len(set(flat_list))\n",
    "\n",
    "n = vocab_size\n",
    "\n",
    "# We then transform the text into integers (word indexes) thanks to the one_hot preprocessing function\n",
    "one_hot_train = []\n",
    "one_hot_test = []\n",
    "one_hot_dev = []\n",
    "\n",
    "from keras.preprocessing.text import one_hot\n",
    "\n",
    "for sent in sentences_train:\n",
    "    one_hot_train.append( one_hot(sent, n, lower=True, split=' '))\n",
    "    \n",
    "for sent in sentences_test:\n",
    "    one_hot_test.append( one_hot(sent, n, lower=True, split=' '))\n",
    "    \n",
    "for sent in sentences_dev:\n",
    "    one_hot_dev.append( one_hot(sent, n, lower=True, split=' '))"
   ]
  },
  {
   "cell_type": "markdown",
   "metadata": {},
   "source": [
    "**Padding input data**\n",
    "\n",
    "Models in Keras (and elsewhere) take batches of sentences of the same length as input. It is because Deep Learning framework have been designed to handle well Tensors, which are particularly suited for fast computation on the GPU.\n",
    "\n",
    "Since sentences have different sizes, we \"pad\" them. That is, we add dummy \"padding\" tokens so that they all have the same length.\n",
    "\n",
    "The input to a Keras model thus has this size : (batchsize, maxseqlen) where maxseqlen is the maximum length of a sentence in the batch."
   ]
  },
  {
   "cell_type": "code",
   "execution_count": 74,
   "metadata": {
    "collapsed": true
   },
   "outputs": [],
   "source": [
    "# 3 - Pad your sequences using keras.preprocessing.sequence.pad_sequences\n",
    "#     https://keras.io/preprocessing/sequence/\n",
    "\n",
    "# TYPE CODE HERE\n",
    "from keras.preprocessing.sequence import pad_sequences\n",
    "\n",
    "# To get maxlen, we ran the padding once and then used tha maximum shape[0] of our three sets\n",
    "\n",
    "pad_train = pad_sequences(one_hot_train, maxlen = 52)\n",
    "pad_test = pad_sequences(one_hot_test, maxlen = 52)\n",
    "pad_dev = pad_sequences(one_hot_dev, maxlen = 52)"
   ]
  },
  {
   "cell_type": "markdown",
   "metadata": {},
   "source": [
    "## 4.2 - Design and train your model"
   ]
  },
  {
   "cell_type": "code",
   "execution_count": 75,
   "metadata": {
    "collapsed": true
   },
   "outputs": [
    {
     "name": "stderr",
     "output_type": "stream",
     "text": [
      "C:\\Users\\juann\\Anaconda3\\envs\\deeplearning\\lib\\site-packages\\ipykernel_launcher.py:21: UserWarning: Update your `LSTM` call to the Keras 2 API: `LSTM(256, dropout=0.2, recurrent_dropout=0.2)`\n"
     ]
    }
   ],
   "source": [
    "# 4 - Design your encoder + classifier using keras.layers\n",
    "#     In Keras, Torch and other deep learning framework, we create a \"container\" which is the Sequential() module.\n",
    "#     Then we add components to this contained : the lookuptable, the LSTM, the classifier etc.\n",
    "#     All of these components are contained in the Sequential() and are trained together.\n",
    "\n",
    "\n",
    "# ADAPT CODE BELOW\n",
    "\n",
    "from keras.models import Sequential\n",
    "from keras.layers import Embedding, LSTM, Dense, Activation\n",
    "\n",
    "\n",
    "\n",
    "embed_dim  = 52 # word embedding dimension\n",
    "nhid       = 256  # number of hidden units in the LSTM\n",
    "vocab_size = vocab_size #100000  # size of the vocabulary found previously\n",
    "n_classes  = 5\n",
    "\n",
    "model = Sequential()\n",
    "model.add(Embedding(vocab_size, embed_dim))\n",
    "model.add(LSTM(nhid, dropout_W=0.2, dropout_U=0.2))\n",
    "model.add(Dense(n_classes, activation='sigmoid'))\n"
   ]
  },
  {
   "cell_type": "code",
   "execution_count": 76,
   "metadata": {
    "collapsed": false
   },
   "outputs": [
    {
     "name": "stdout",
     "output_type": "stream",
     "text": [
      "_________________________________________________________________\n",
      "Layer (type)                 Output Shape              Param #   \n",
      "=================================================================\n",
      "embedding_1 (Embedding)      (None, None, 52)          927524    \n",
      "_________________________________________________________________\n",
      "lstm_1 (LSTM)                (None, 256)               316416    \n",
      "_________________________________________________________________\n",
      "dense_1 (Dense)              (None, 5)                 1285      \n",
      "=================================================================\n",
      "Total params: 1,245,225\n",
      "Trainable params: 1,245,225\n",
      "Non-trainable params: 0\n",
      "_________________________________________________________________\n",
      "None\n"
     ]
    }
   ],
   "source": [
    "# 5 - Define your loss/optimizer/metrics\n",
    "\n",
    "# MODIFY CODE BELOW\n",
    "from keras.optimizers import Adam\n",
    "\n",
    "loss_classif     =  'categorical_crossentropy' # We selected this classifier since it it a multiclass probelm\n",
    "optimizer        =  'adam' # We used the Adam optimizer\n",
    "metrics_classif  =  ['accuracy']\n",
    "\n",
    "# Observe how easy (but blackboxed) this is in Keras\n",
    "model.compile(loss=loss_classif,\n",
    "              optimizer=optimizer,\n",
    "              metrics=metrics_classif)\n",
    "print(model.summary())"
   ]
  },
  {
   "cell_type": "code",
   "execution_count": 125,
   "metadata": {
    "collapsed": true
   },
   "outputs": [
    {
     "name": "stderr",
     "output_type": "stream",
     "text": [
      "C:\\Users\\juann\\Anaconda3\\envs\\deeplearning\\lib\\site-packages\\ipykernel_launcher.py:19: UserWarning: The `nb_epoch` argument in `fit` has been renamed `epochs`.\n"
     ]
    },
    {
     "name": "stdout",
     "output_type": "stream",
     "text": [
      "Train on 8543 samples, validate on 1100 samples\n",
      "Epoch 1/2\n",
      "8543/8543 [==============================] - 196s 23ms/step - loss: 1.5691 - acc: 0.2871 - val_loss: 1.5206 - val_acc: 0.3373\n",
      "Epoch 2/2\n",
      "8543/8543 [==============================] - 180s 21ms/step - loss: 1.3750 - acc: 0.3926 - val_loss: 1.4076 - val_acc: 0.3836\n"
     ]
    },
    {
     "data": {
      "image/png": "[encoded data removed]",
      "text/plain": [
       "<Figure size 432x288 with 1 Axes>"
      ]
     },
     "metadata": {
      "needs_background": "light"
     },
     "output_type": "display_data"
    }
   ],
   "source": [
    "# 6 - Train your model and find the best hyperparameters for your dev set\n",
    "#     you will be evaluated on the quality of your predictions on the test set\n",
    "\n",
    "# ADAPT CODE BELOW\n",
    "bs = 32\n",
    "#We take 2 epochs to avoid overfitting\n",
    "n_epochs = 2\n",
    "\n",
    "# We used the dev set as validation set\n",
    "x_train = pad_train\n",
    "y_train_1 = results_train\n",
    "x_val = pad_dev\n",
    "y_val_1 = results_dev\n",
    "\n",
    "# Transforming our results into categorical data\n",
    "from keras.utils import np_utils\n",
    "y_train = np_utils.to_categorical(y_train_1, 5)\n",
    "y_val = np_utils.to_categorical(y_val_1, 5)\n",
    "\n",
    "history = model.fit(x_train, y_train, batch_size=bs, nb_epoch=n_epochs, validation_data=(x_val, y_val))\n",
    "\n",
    "plt.plot(history.history['acc'])\n",
    "plt.plot(history.history['val_acc'])\n",
    "plt.title('model train vs validation acc')\n",
    "plt.ylabel('acc')\n",
    "plt.xlabel('epoch')\n",
    "plt.legend(['train', 'validation'], loc='upper right')\n",
    "plt.show()"
   ]
  },
  {
   "cell_type": "code",
   "execution_count": 126,
   "metadata": {},
   "outputs": [],
   "source": [
    "# 7 - Generate your predictions on the test set using model.predict(x_test)\n",
    "#     https://keras.io/models/model/\n",
    "#     Log your predictions in a file (one line = one integer: 0,1,2,3,4)\n",
    "#     Attach the output file \"logreg_lstm_y_test_sst.txt\" to your deliverable.\n",
    "\n",
    "# TYPE CODE HERE\n",
    "x_test = pad_test\n",
    "\n",
    "results_test_3 = model.predict(x_test)\n",
    "argmax_3 = np.argmax(results_test_3, axis = 1)\n",
    "\n",
    "file = open(\"logreg_lstm_y_test_sst.txt\",\"w\") \n",
    "\n",
    "for i in argmax_3:\n",
    "    file.write(str(i)) \n",
    "    file.write(\"\\n\")\n",
    "\n",
    "file.close() "
   ]
  },
  {
   "cell_type": "markdown",
   "metadata": {},
   "source": [
    "## 4.3 -- innovate !"
   ]
  },
  {
   "cell_type": "code",
   "execution_count": 93,
   "metadata": {
    "collapsed": true
   },
   "outputs": [
    {
     "name": "stdout",
     "output_type": "stream",
     "text": [
      "['loss', 'acc']\n",
      "Train on 7688 samples, validate on 855 samples\n",
      "Epoch 1/1\n",
      "7688/7688 [==============================] - 29s 4ms/step - loss: 1.4633 - acc: 0.3554 - val_loss: 1.3523 - val_acc: 0.4000\n",
      "1100/1100 [==============================] - 1s 1ms/step\n",
      "Validation accuracy: 0.4118181819265539\n"
     ]
    }
   ],
   "source": [
    "# 8 - Open question: find a model that is better on your dev set\n",
    "#     (e.g: use a 1D ConvNet, use a better classifier, pretrain your lookup tables ..)\n",
    "#     you will get point if the results on the test set are better: be careful of not overfitting your dev set too much..\n",
    "#     Attach the output file \"XXX_XXX_y_test_sst.txt\" to your deliverable.\n",
    "\n",
    "# TYPE CODE HERE\n",
    "\n",
    "# I decided to use another encoder. I used the Tokenizer function to preprocess the text.\n",
    "# Each input line would therefore have a size (,vocab_size) instead of (,52).\n",
    "# This higher dimension might lead to enhanced prediction.\n",
    "\n",
    "from keras.preprocessing.text import Tokenizer\n",
    "\n",
    "t = Tokenizer()\n",
    "\n",
    "# fit the tokenizer on the train text\n",
    "t.fit_on_texts(sentences_train+sentences_dev+sentences_test)\n",
    "\n",
    "# integer encode documents\n",
    "token_train = t.texts_to_matrix(sentences_train, mode='count')\n",
    "token_test = t.texts_to_matrix(sentences_test, mode='count')\n",
    "token_dev = t.texts_to_matrix(sentences_dev, mode='count')\n",
    "\n",
    "# We will use dev set as validation set\n",
    "x_train = token_train\n",
    "y_train_1 = results_train\n",
    "x_val = token_dev\n",
    "y_val_1 = results_dev\n",
    "\n",
    "# Transforming reluts into categorical data\n",
    "from keras.utils import np_utils\n",
    "y_train = np_utils.to_categorical(y_train_1, 5)\n",
    "y_val = np_utils.to_categorical(y_val_1, 5)\n",
    "\n",
    "# I used a classical dense NN, which improved the previous results. \n",
    "# Any attempt to perform a Conv1D or an LSTM lead to a very high computational time, and no extra performance.\n",
    "\n",
    "from keras.models import Sequential\n",
    "from keras.layers import Dense, Dropout, Activation\n",
    "from keras import regularizers\n",
    "\n",
    "model_dnn = Sequential()\n",
    "model_dnn.add(Dense(64, input_shape=(x_train.shape[1],), activation='relu'))\n",
    "model_dnn.add(Dropout(0.2))\n",
    "model_dnn.add(Dense(128, activation='relu'))\n",
    "model_dnn.add(Dropout(0.2))\n",
    "\n",
    "model_dnn.add(Dense(5))\n",
    "model_dnn.add(Activation('softmax'))\n",
    "\n",
    "model_dnn.compile(loss='categorical_crossentropy', optimizer='adam', metrics=['accuracy'])\n",
    "print(model_dnn.metrics_names)\n",
    "\n",
    "# To avoid overfitting, I had to use only one epoch, since the model converges fast\n",
    "batch_size = 16\n",
    "epochs = 1\n",
    "\n",
    "history = model_dnn.fit(x_train, y_train, batch_size=batch_size, epochs=epochs, verbose=1, validation_split=0.1)\n",
    "score = model_dnn.evaluate(x_val, y_val, batch_size=batch_size, verbose=1)\n",
    "print('Validation accuracy:', score[1])\n",
    "\n",
    "\n",
    "# Let us now predict the results and store those\n",
    "x_test = token_test\n",
    "\n",
    "results_test_4 = model_dnn.predict(x_test)\n",
    "argmax_4 = np.argmax(results_test_4, axis = 1)\n",
    "\n",
    "file = open(\"tokenized_denseNN_y_test_sst.txt\",\"w\") \n",
    "\n",
    "for i in argmax_4:\n",
    "    file.write(str(i)) \n",
    "    file.write(\"\\n\")\n",
    "\n",
    "file.close() "
   ]
  }
 ],
 "metadata": {
  "kernelspec": {
   "display_name": "Python 3",
   "language": "python",
   "name": "python3"
  },
  "language_info": {
   "codemirror_mode": {
    "name": "ipython",
    "version": 3
   },
   "file_extension": ".py",
   "mimetype": "text/x-python",
   "name": "python",
   "nbconvert_exporter": "python",
   "pygments_lexer": "ipython3",
   "version": "3.6.7"
  }
 },
 "nbformat": 4,
 "nbformat_minor": 2
}
